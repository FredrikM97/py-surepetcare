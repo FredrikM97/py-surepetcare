{
 "cells": [
  {
   "cell_type": "code",
   "execution_count": 1,
   "id": "2682ccb0",
   "metadata": {},
   "outputs": [
    {
     "name": "stderr",
     "output_type": "stream",
     "text": [
      "INFO:surepetcare.security.auth:Response status: 200\n"
     ]
    }
   ],
   "source": [
    "from dotenv import load_dotenv\n",
    "import os\n",
    "from surepetcare.client import SurePetcareClient\n",
    "from surepetcare.household import Household\n",
    "\n",
    "# Running from jupyterlab\n",
    "load_dotenv(dotenv_path=\".env\")\n",
    "\n",
    "email = os.getenv(\"SUREPY_EMAIL\")\n",
    "password = os.getenv(\"SUREPY_PASSWORD\")\n",
    "\n",
    "client = SurePetcareClient()\n",
    "await client.login(email=email, password=password)\n",
    "households = await client.api(Household.get_households())\n",
    "household_devices = [await client.api(household.get_devices()) for household in households]\n",
    "household_pets = {household.id: await client.api(household.get_pets()) for household in households}"
   ]
  },
  {
   "cell_type": "code",
   "execution_count": 10,
   "id": "f05ba0fa",
   "metadata": {},
   "outputs": [],
   "source": [
    "pet = await client.api(household_pets[222527][1].refresh())"
   ]
  },
  {
   "cell_type": "code",
   "execution_count": 12,
   "id": "2a32129f",
   "metadata": {},
   "outputs": [
    {
     "data": {
      "text/plain": [
       "[ReportHouseholdFeedingResource(from_='2025-05-30T23:53:53+00:00', to='2025-05-30T23:56:02+00:00', duration=129, context='1', bowl_count=2, device_id=269654, weights=[ReportWeightFrame(index=0, weight=15.0, change=-10.0, food_type_id=1, target_weight=0.0), ReportWeightFrame(index=1, weight=0.0, change=0.0, food_type_id=1, target_weight=0.0)], actual_weight=1.0, entry_user_id=None, exit_user_id=None, created_at=None, updated_at=None, deleted_at=None, tag_id=None, user_id=None),\n",
       " ReportHouseholdFeedingResource(from_='2025-05-31T02:14:40+00:00', to='2025-05-31T02:15:43+00:00', duration=63, context='1', bowl_count=2, device_id=269654, weights=[ReportWeightFrame(index=0, weight=12.0, change=-3.0, food_type_id=1, target_weight=0.0), ReportWeightFrame(index=1, weight=0.0, change=0.0, food_type_id=1, target_weight=0.0)], actual_weight=1.0, entry_user_id=None, exit_user_id=None, created_at=None, updated_at=None, deleted_at=None, tag_id=None, user_id=None),\n",
       " ReportHouseholdFeedingResource(from_='2025-05-31T16:56:08+00:00', to='2025-05-31T16:57:31+00:00', duration=83, context='1', bowl_count=2, device_id=269654, weights=[ReportWeightFrame(index=0, weight=7.0, change=-4.0, food_type_id=1, target_weight=0.0), ReportWeightFrame(index=1, weight=0.0, change=0.0, food_type_id=1, target_weight=0.0)], actual_weight=1.0, entry_user_id=None, exit_user_id=None, created_at=None, updated_at=None, deleted_at=None, tag_id=None, user_id=None),\n",
       " ReportHouseholdFeedingResource(from_='2025-05-31T20:43:31+00:00', to='2025-05-31T20:46:12+00:00', duration=161, context='1', bowl_count=2, device_id=269654, weights=[ReportWeightFrame(index=0, weight=0.0, change=-7.0, food_type_id=1, target_weight=0.0), ReportWeightFrame(index=1, weight=0.0, change=0.0, food_type_id=1, target_weight=0.0)], actual_weight=1.0, entry_user_id=None, exit_user_id=None, created_at=None, updated_at=None, deleted_at=None, tag_id=None, user_id=None),\n",
       " ReportHouseholdFeedingResource(from_='2025-05-31T01:55:37+00:00', to='2025-05-31T01:57:19+00:00', duration=102, context='1', bowl_count=1, device_id=1181149, weights=[ReportWeightFrame(index=0, weight=77.0, change=-5.0, food_type_id=2, target_weight=0.0), ReportWeightFrame(index=1, weight=0.0, change=0.0, food_type_id=None, target_weight=0.0)], actual_weight=52.0, entry_user_id=None, exit_user_id=None, created_at=None, updated_at=None, deleted_at=None, tag_id=None, user_id=None),\n",
       " ReportHouseholdFeedingResource(from_='2025-05-31T03:10:19+00:00', to='2025-05-31T03:11:36+00:00', duration=77, context='1', bowl_count=1, device_id=1181149, weights=[ReportWeightFrame(index=0, weight=74.0, change=-3.0, food_type_id=2, target_weight=0.0), ReportWeightFrame(index=1, weight=0.0, change=0.0, food_type_id=None, target_weight=0.0)], actual_weight=52.0, entry_user_id=None, exit_user_id=None, created_at=None, updated_at=None, deleted_at=None, tag_id=None, user_id=None),\n",
       " ReportHouseholdFeedingResource(from_='2025-05-31T04:18:16+00:00', to='2025-05-31T04:19:47+00:00', duration=91, context='1', bowl_count=1, device_id=1181149, weights=[ReportWeightFrame(index=0, weight=71.0, change=-4.0, food_type_id=2, target_weight=0.0), ReportWeightFrame(index=1, weight=0.0, change=0.0, food_type_id=None, target_weight=0.0)], actual_weight=52.0, entry_user_id=None, exit_user_id=None, created_at=None, updated_at=None, deleted_at=None, tag_id=None, user_id=None),\n",
       " ReportHouseholdFeedingResource(from_='2025-05-31T09:48:41+00:00', to='2025-05-31T09:49:50+00:00', duration=69, context='1', bowl_count=1, device_id=1181149, weights=[ReportWeightFrame(index=0, weight=68.0, change=-3.0, food_type_id=2, target_weight=0.0), ReportWeightFrame(index=1, weight=0.0, change=0.0, food_type_id=None, target_weight=0.0)], actual_weight=52.0, entry_user_id=None, exit_user_id=None, created_at=None, updated_at=None, deleted_at=None, tag_id=None, user_id=None),\n",
       " ReportHouseholdFeedingResource(from_='2025-05-31T16:48:36+00:00', to='2025-05-31T16:49:55+00:00', duration=79, context='1', bowl_count=1, device_id=1181149, weights=[ReportWeightFrame(index=0, weight=64.0, change=-4.0, food_type_id=2, target_weight=0.0), ReportWeightFrame(index=1, weight=0.0, change=0.0, food_type_id=None, target_weight=0.0)], actual_weight=52.0, entry_user_id=None, exit_user_id=None, created_at=None, updated_at=None, deleted_at=None, tag_id=None, user_id=None),\n",
       " ReportHouseholdFeedingResource(from_='2025-05-31T18:10:53+00:00', to='2025-05-31T18:12:25+00:00', duration=92, context='1', bowl_count=1, device_id=1181149, weights=[ReportWeightFrame(index=0, weight=60.0, change=-4.0, food_type_id=2, target_weight=0.0), ReportWeightFrame(index=1, weight=0.0, change=0.0, food_type_id=None, target_weight=0.0)], actual_weight=52.0, entry_user_id=None, exit_user_id=None, created_at=None, updated_at=None, deleted_at=None, tag_id=None, user_id=None),\n",
       " ReportHouseholdFeedingResource(from_='2025-05-31T18:47:53+00:00', to='2025-05-31T18:49:14+00:00', duration=81, context='1', bowl_count=1, device_id=1181149, weights=[ReportWeightFrame(index=0, weight=57.0, change=-2.0, food_type_id=2, target_weight=0.0), ReportWeightFrame(index=1, weight=0.0, change=0.0, food_type_id=None, target_weight=0.0)], actual_weight=52.0, entry_user_id=None, exit_user_id=None, created_at=None, updated_at=None, deleted_at=None, tag_id=None, user_id=None),\n",
       " ReportHouseholdFeedingResource(from_='2025-05-31T19:52:16+00:00', to='2025-05-31T19:53:36+00:00', duration=80, context='1', bowl_count=1, device_id=1181149, weights=[ReportWeightFrame(index=0, weight=54.0, change=-3.0, food_type_id=2, target_weight=0.0), ReportWeightFrame(index=1, weight=0.0, change=0.0, food_type_id=None, target_weight=0.0)], actual_weight=52.0, entry_user_id=None, exit_user_id=None, created_at=None, updated_at=None, deleted_at=None, tag_id=None, user_id=None),\n",
       " ReportHouseholdFeedingResource(from_='2025-05-31T20:27:49+00:00', to='2025-05-31T20:28:28+00:00', duration=39, context='1', bowl_count=1, device_id=1181149, weights=[ReportWeightFrame(index=0, weight=52.0, change=-1.0, food_type_id=2, target_weight=0.0), ReportWeightFrame(index=1, weight=0.0, change=0.0, food_type_id=None, target_weight=0.0)], actual_weight=52.0, entry_user_id=None, exit_user_id=None, created_at=None, updated_at=None, deleted_at=None, tag_id=None, user_id=None)]"
      ]
     },
     "execution_count": 12,
     "metadata": {},
     "output_type": "execute_result"
    }
   ],
   "source": [
    "pet.feeding"
   ]
  }
 ],
 "metadata": {
  "kernelspec": {
   "display_name": "Python 3",
   "language": "python",
   "name": "python3"
  },
  "language_info": {
   "codemirror_mode": {
    "name": "ipython",
    "version": 3
   },
   "file_extension": ".py",
   "mimetype": "text/x-python",
   "name": "python",
   "nbconvert_exporter": "python",
   "pygments_lexer": "ipython3",
   "version": "3.11.12"
  }
 },
 "nbformat": 4,
 "nbformat_minor": 5
}
