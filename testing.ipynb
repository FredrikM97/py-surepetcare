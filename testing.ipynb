{
 "cells": [
  {
   "cell_type": "code",
   "execution_count": null,
   "id": "951b47c9",
   "metadata": {},
   "outputs": [],
   "source": [
    "from dotenv import load_dotenv\n",
    "import os\n",
    "# Running from jupyterlab\n",
    "load_dotenv(dotenv_path=\".env\")\n",
    "\n",
    "email = os.getenv(\"SUREPY_EMAIL\")\n",
    "password = os.getenv(\"SUREPY_PASSWORD\")\n",
    "\n",
    "if email is None or password is None:\n",
    "    print(\"Please set SUREPY_EMAIL and SUREPY_PASSWORD in your .env file.\")\n",
    "    exit(1)"
   ]
  },
  {
   "cell_type": "code",
   "execution_count": null,
   "id": "2682ccb0",
   "metadata": {},
   "outputs": [],
   "source": [
    "from dotenv import load_dotenv\n",
    "import os\n",
    "from surepy.client import SurePetcareClient\n",
    "\n",
    "# Running from jupyterlab\n",
    "load_dotenv(dotenv_path=\".env\")\n",
    "\n",
    "email = os.getenv(\"SUREPY_EMAIL\")\n",
    "password = os.getenv(\"SUREPY_PASSWORD\")\n",
    "\n",
    "client = SurePetcareClient()\n",
    "await client.login(email=email, password=password)\n",
    "household_ids = [household['id'] for household in (await client.get_households())]\n",
    "await client.get_devices(household_ids)"
   ]
  },
  {
   "cell_type": "code",
   "execution_count": null,
   "id": "9df77b22-f6fe-4d9d-a190-833a2d61c742",
   "metadata": {
    "editable": true,
    "slideshow": {
     "slide_type": ""
    },
    "tags": []
   },
   "outputs": [],
   "source": [
    "from surepy.client import SurePetcareClient\n",
    "client = SurePetcareClient()\n",
    "await client.login(email=email, password=password)\n",
    "#await client.get_household(222527)"
   ]
  },
  {
   "cell_type": "code",
   "execution_count": null,
   "id": "8606a721",
   "metadata": {},
   "outputs": [],
   "source": [
    "household_ids = [household['id'] for household in (await client.get_households())]\n",
    "devices = (await client.get_devices(household_ids))\n",
    "await devices[0].fetch()\n",
    "devices[0].raw_data"
   ]
  },
  {
   "cell_type": "code",
   "execution_count": null,
   "id": "a3736bb0",
   "metadata": {},
   "outputs": [],
   "source": [
    "devices[0].food_type"
   ]
  },
  {
   "cell_type": "code",
   "execution_count": null,
   "id": "02bffb19",
   "metadata": {},
   "outputs": [],
   "source": [
    "from surepy.entities.pet import Pet\n",
    "#\n",
    "pet = Pet(client, household_ids[0], (await client.get_pets(household_ids[0]))['data'][1]['id'])\n",
    "await pet.fetch(\"2025-04-01\", \"2025-05-01\")"
   ]
  },
  {
   "cell_type": "code",
   "execution_count": null,
   "id": "6836780b",
   "metadata": {},
   "outputs": [],
   "source": [
    "await devices[3].update()\n",
    "devices[3].raw_data\n",
    "\n"
   ]
  },
  {
   "cell_type": "code",
   "execution_count": null,
   "id": "c0213b55",
   "metadata": {},
   "outputs": [],
   "source": [
    "from surepy.entities.pet import Pet\n",
    "(await user.get_pets(222527))['data']\n",
    "#Pet(client, 222527)"
   ]
  },
  {
   "cell_type": "code",
   "execution_count": null,
   "id": "207979fe-3af5-4009-9c66-69ebb7457545",
   "metadata": {
    "editable": true,
    "slideshow": {
     "slide_type": ""
    },
    "tags": []
   },
   "outputs": [],
   "source": [
    "household_id = (await user.get_households())['data'][0]['id'] # Right now just assume it is one household\n",
    "household_id"
   ]
  },
  {
   "cell_type": "code",
   "execution_count": null,
   "id": "1691a1c5-e2dd-4b50-b271-c28f7a2ba416",
   "metadata": {
    "editable": true,
    "slideshow": {
     "slide_type": ""
    },
    "tags": []
   },
   "outputs": [],
   "source": [
    "\n",
    "device = [{\"household_id\":device['household_id'], \"id\": device['id'], \"product_id\": device['product_id']} for device in (await user.get_devices(222527))['data']]\n",
    "device"
   ]
  },
  {
   "cell_type": "code",
   "execution_count": null,
   "id": "0ba8afa3-e553-42d6-8f62-1ae74b1f63fe",
   "metadata": {
    "editable": true,
    "slideshow": {
     "slide_type": ""
    },
    "tags": []
   },
   "outputs": [],
   "source": [
    "products = [dict(product_id=device.get('product_id'), device_id=device.get('id')) for device in (await user.get_devices(household_id))['data']]\n",
    "products"
   ]
  },
  {
   "cell_type": "code",
   "execution_count": null,
   "id": "76296fa1-716d-40ec-9ded-fb8a03284f09",
   "metadata": {},
   "outputs": [],
   "source": [
    "pet_ids = [pet['id'] for pet in (await user.get_pets(household_id))['data'] ]\n",
    "pet_ids"
   ]
  }
 ],
 "metadata": {
  "kernelspec": {
   "display_name": "Python 3",
   "language": "python",
   "name": "python3"
  },
  "language_info": {
   "codemirror_mode": {
    "name": "ipython",
    "version": 3
   },
   "file_extension": ".py",
   "mimetype": "text/x-python",
   "name": "python",
   "nbconvert_exporter": "python",
   "pygments_lexer": "ipython3",
   "version": "3.11.12"
  }
 },
 "nbformat": 4,
 "nbformat_minor": 5
}
